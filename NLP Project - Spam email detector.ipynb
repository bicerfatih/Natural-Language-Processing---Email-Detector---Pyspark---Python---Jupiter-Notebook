{
 "cells": [
  {
   "cell_type": "code",
   "execution_count": 1,
   "id": "f8a501f4",
   "metadata": {
    "scrolled": true
   },
   "outputs": [
    {
     "name": "stdout",
     "output_type": "stream",
     "text": [
      "23/01/16 00:06:30 WARN Utils: Your hostname, fs-MacBook-Air-2.local resolves to a loopback address: 127.0.0.1; using 192.168.0.9 instead (on interface en0)\n",
      "23/01/16 00:06:30 WARN Utils: Set SPARK_LOCAL_IP if you need to bind to another address\n"
     ]
    },
    {
     "name": "stderr",
     "output_type": "stream",
     "text": [
      "Setting default log level to \"WARN\".\n",
      "To adjust logging level use sc.setLogLevel(newLevel). For SparkR, use setLogLevel(newLevel).\n"
     ]
    },
    {
     "name": "stdout",
     "output_type": "stream",
     "text": [
      "23/01/16 00:06:31 WARN NativeCodeLoader: Unable to load native-hadoop library for your platform... using builtin-java classes where applicable\n",
      "+----+--------------------+\n",
      "| _c0|                 _c1|\n",
      "+----+--------------------+\n",
      "| ham|Go until jurong p...|\n",
      "| ham|Ok lar... Joking ...|\n",
      "|spam|Free entry in 2 a...|\n",
      "| ham|U dun say so earl...|\n",
      "| ham|Nah I don't think...|\n",
      "|spam|FreeMsg Hey there...|\n",
      "| ham|Even my brother i...|\n",
      "| ham|As per your reque...|\n",
      "|spam|WINNER!! As a val...|\n",
      "|spam|Had your mobile 1...|\n",
      "| ham|I'm gonna be home...|\n",
      "|spam|SIX chances to wi...|\n",
      "|spam|URGENT! You have ...|\n",
      "| ham|I've been searchi...|\n",
      "| ham|I HAVE A DATE ON ...|\n",
      "|spam|XXXMobileMovieClu...|\n",
      "| ham|Oh k...i'm watchi...|\n",
      "| ham|Eh u remember how...|\n",
      "| ham|Fine if thats th...|\n",
      "|spam|England v Macedon...|\n",
      "+----+--------------------+\n",
      "only showing top 20 rows\n",
      "\n"
     ]
    }
   ],
   "source": [
    "from pyspark.sql import SparkSession\n",
    "\n",
    "spark = SparkSession.builder.appName('NLP').getOrCreate()\n",
    "\n",
    "data2 = spark.read.csv('/users/f/desktop/smsspamdata', inferSchema = True, sep = '\\t') #As our data is separated by tabs we should read the data with the separation '\\t'.\n",
    "\n",
    "data2.show()\n",
    "\n"
   ]
  },
  {
   "cell_type": "code",
   "execution_count": null,
   "id": "9ef64ad9",
   "metadata": {},
   "outputs": [],
   "source": []
  },
  {
   "cell_type": "code",
   "execution_count": 5,
   "id": "4dc1b4a7",
   "metadata": {},
   "outputs": [
    {
     "name": "stdout",
     "output_type": "stream",
     "text": [
      "+-----+--------------------+\n",
      "|class|                text|\n",
      "+-----+--------------------+\n",
      "|  ham|Go until jurong p...|\n",
      "|  ham|Ok lar... Joking ...|\n",
      "| spam|Free entry in 2 a...|\n",
      "|  ham|U dun say so earl...|\n",
      "|  ham|Nah I don't think...|\n",
      "| spam|FreeMsg Hey there...|\n",
      "|  ham|Even my brother i...|\n",
      "|  ham|As per your reque...|\n",
      "| spam|WINNER!! As a val...|\n",
      "| spam|Had your mobile 1...|\n",
      "|  ham|I'm gonna be home...|\n",
      "| spam|SIX chances to wi...|\n",
      "| spam|URGENT! You have ...|\n",
      "|  ham|I've been searchi...|\n",
      "|  ham|I HAVE A DATE ON ...|\n",
      "| spam|XXXMobileMovieClu...|\n",
      "|  ham|Oh k...i'm watchi...|\n",
      "|  ham|Eh u remember how...|\n",
      "|  ham|Fine if thats th...|\n",
      "| spam|England v Macedon...|\n",
      "+-----+--------------------+\n",
      "only showing top 20 rows\n",
      "\n",
      "+-----+--------------------+------+\n",
      "|class|                text|length|\n",
      "+-----+--------------------+------+\n",
      "|  ham|Go until jurong p...|   111|\n",
      "|  ham|Ok lar... Joking ...|    29|\n",
      "| spam|Free entry in 2 a...|   155|\n",
      "|  ham|U dun say so earl...|    49|\n",
      "|  ham|Nah I don't think...|    61|\n",
      "| spam|FreeMsg Hey there...|   147|\n",
      "|  ham|Even my brother i...|    77|\n",
      "|  ham|As per your reque...|   160|\n",
      "| spam|WINNER!! As a val...|   157|\n",
      "| spam|Had your mobile 1...|   154|\n",
      "|  ham|I'm gonna be home...|   109|\n",
      "| spam|SIX chances to wi...|   136|\n",
      "| spam|URGENT! You have ...|   155|\n",
      "|  ham|I've been searchi...|   196|\n",
      "|  ham|I HAVE A DATE ON ...|    35|\n",
      "| spam|XXXMobileMovieClu...|   149|\n",
      "|  ham|Oh k...i'm watchi...|    26|\n",
      "|  ham|Eh u remember how...|    81|\n",
      "|  ham|Fine if thats th...|    56|\n",
      "| spam|England v Macedon...|   155|\n",
      "+-----+--------------------+------+\n",
      "only showing top 20 rows\n",
      "\n"
     ]
    },
    {
     "name": "stderr",
     "output_type": "stream",
     "text": [
      "                                                                                \r"
     ]
    },
    {
     "name": "stdout",
     "output_type": "stream",
     "text": [
      "+-----+-----------------+\n",
      "|class|      avg(length)|\n",
      "+-----+-----------------+\n",
      "|  ham|71.45431945307645|\n",
      "| spam|138.6706827309237|\n",
      "+-----+-----------------+\n",
      "\n"
     ]
    },
    {
     "name": "stderr",
     "output_type": "stream",
     "text": [
      "                                                                                \r"
     ]
    },
    {
     "name": "stdout",
     "output_type": "stream",
     "text": [
      "+-----+--------------------+\n",
      "|label|            features|\n",
      "+-----+--------------------+\n",
      "|  0.0|(13424,[7,11,31,6...|\n",
      "|  0.0|(13424,[0,24,297,...|\n",
      "|  1.0|(13424,[2,13,19,3...|\n",
      "|  0.0|(13424,[0,70,80,1...|\n",
      "|  0.0|(13424,[36,134,31...|\n",
      "|  1.0|(13424,[10,60,139...|\n",
      "|  0.0|(13424,[10,53,103...|\n",
      "|  0.0|(13424,[125,184,4...|\n",
      "|  1.0|(13424,[1,47,118,...|\n",
      "|  1.0|(13424,[0,1,13,27...|\n",
      "|  0.0|(13424,[18,43,120...|\n",
      "|  1.0|(13424,[8,17,37,8...|\n",
      "|  1.0|(13424,[13,30,47,...|\n",
      "|  0.0|(13424,[39,96,217...|\n",
      "|  0.0|(13424,[552,1697,...|\n",
      "|  1.0|(13424,[30,109,11...|\n",
      "|  0.0|(13424,[82,214,47...|\n",
      "|  0.0|(13424,[0,2,49,13...|\n",
      "|  0.0|(13424,[0,74,105,...|\n",
      "|  1.0|(13424,[4,30,33,5...|\n",
      "+-----+--------------------+\n",
      "only showing top 20 rows\n",
      "\n",
      "23/01/16 00:08:34 WARN DAGScheduler: Broadcasting large task binary with size 1249.2 KiB\n"
     ]
    },
    {
     "name": "stderr",
     "output_type": "stream",
     "text": [
      "[Stage 18:>                                                         (0 + 1) / 1]\r"
     ]
    },
    {
     "name": "stdout",
     "output_type": "stream",
     "text": [
      "23/01/16 00:08:35 WARN DAGScheduler: Broadcasting large task binary with size 1238.9 KiB\n"
     ]
    },
    {
     "name": "stderr",
     "output_type": "stream",
     "text": [
      "                                                                                \r"
     ]
    }
   ],
   "source": [
    "data2 = data2.withColumnRenamed('_c0', 'class').withColumnRenamed('_c1','text')#Rename the headers \n",
    "\n",
    "data2.show()\n",
    "\n",
    "from pyspark.sql.functions import length \n",
    "\n",
    "data2 = data2.withColumn('length',length(data2['text']))#We need the lenghth of the data \n",
    "\n",
    "data2.show()\n",
    "\n",
    "data2.groupBy('class').mean().show()#separated by groups (average)\n",
    "\n",
    "from pyspark.ml.feature import (Tokenizer, StopWordsRemover, CountVectorizer, IDF, StringIndexer)\n",
    "\n",
    "tokenizer = Tokenizer(inputCol = \"text\", outputCol = \"token_text\")\n",
    "\n",
    "stop_remove = StopWordsRemover(inputCol = 'token_text', outputCol=\"stop_tokens\")\n",
    "\n",
    "count_vec = CountVectorizer(inputCol = 'stop_tokens', outputCol = 'c_vec')\n",
    "\n",
    "idf = IDF(inputCol = 'c_vec', outputCol = 'tearmf_inversf')\n",
    "\n",
    "ham_spam_to_numbers = StringIndexer(inputCol = 'class', outputCol = \"label\")#converts strings to numbers to make the spark understand \n",
    "\n",
    "from pyspark.ml.feature import VectorAssembler \n",
    "\n",
    "clean_up_data = VectorAssembler(inputCols=['tearmf_inversf', 'length'],outputCol = 'features')\n",
    "\n",
    "from pyspark.ml.classification import NaiveBayes\n",
    "\n",
    "nb = NaiveBayes()\n",
    "\n",
    "from pyspark.ml import Pipeline \n",
    "\n",
    "data_prep_pipeline = Pipeline(stages = [ham_spam_to_numbers, tokenizer, stop_remove, count_vec, idf, clean_up_data])\n",
    "\n",
    "cleaner = data_prep_pipeline.fit(data2)\n",
    "\n",
    "clean_data2 = cleaner.transform(data2)\n",
    "\n",
    "clean_data2 = clean_data2.select('label','features')\n",
    "\n",
    "clean_data2.show()\n",
    "\n",
    "training_data2, test_data2 = clean_data2.randomSplit([0.7, 0.3])\n",
    "\n",
    "spam_detection2 = nb.fit(training_data2)"
   ]
  },
  {
   "cell_type": "code",
   "execution_count": 6,
   "id": "b582a580",
   "metadata": {},
   "outputs": [
    {
     "name": "stdout",
     "output_type": "stream",
     "text": [
      "23/01/16 00:08:42 WARN DAGScheduler: Broadcasting large task binary with size 1249.2 KiB\n"
     ]
    },
    {
     "name": "stderr",
     "output_type": "stream",
     "text": [
      "[Stage 21:>                                                         (0 + 1) / 1]\r"
     ]
    },
    {
     "name": "stdout",
     "output_type": "stream",
     "text": [
      "23/01/16 00:08:43 WARN DAGScheduler: Broadcasting large task binary with size 1238.9 KiB\n"
     ]
    },
    {
     "name": "stderr",
     "output_type": "stream",
     "text": [
      "                                                                                \r"
     ]
    }
   ],
   "source": [
    "spam_detection2 = nb.fit(training_data2)"
   ]
  },
  {
   "cell_type": "code",
   "execution_count": 7,
   "id": "31b6afa5",
   "metadata": {},
   "outputs": [],
   "source": [
    "test_results = spam_detection2.transform(test_data2)"
   ]
  },
  {
   "cell_type": "code",
   "execution_count": 8,
   "id": "5ca30f40",
   "metadata": {},
   "outputs": [
    {
     "name": "stdout",
     "output_type": "stream",
     "text": [
      "23/01/16 00:08:50 WARN DAGScheduler: Broadcasting large task binary with size 1471.5 KiB\n",
      "23/01/16 00:08:50 WARN InstanceBuilder$JavaBLAS: Failed to load implementation from:dev.ludovic.netlib.blas.VectorBLAS\n",
      "+-----+--------------------+--------------------+--------------------+----------+\n",
      "|label|            features|       rawPrediction|         probability|prediction|\n",
      "+-----+--------------------+--------------------+--------------------+----------+\n",
      "|  0.0|(13424,[0,1,2,13,...|[-623.85247706018...|[0.99999999969724...|       0.0|\n",
      "|  0.0|(13424,[0,1,2,41,...|[-1064.9155610426...|[1.0,6.6055065206...|       0.0|\n",
      "|  0.0|(13424,[0,1,3,9,1...|[-570.96306112847...|[1.0,6.0933697824...|       0.0|\n",
      "|  0.0|(13424,[0,1,4,50,...|[-829.50716496939...|[1.0,3.9289456697...|       0.0|\n",
      "|  0.0|(13424,[0,1,5,20,...|[-798.47593807070...|[1.0,5.4311585026...|       0.0|\n",
      "|  0.0|(13424,[0,1,9,14,...|[-543.90306091825...|[1.0,5.0288793754...|       0.0|\n",
      "|  0.0|(13424,[0,1,14,18...|[-1358.3710992445...|[1.0,4.3086568626...|       0.0|\n",
      "|  0.0|(13424,[0,1,17,19...|[-821.36314509500...|[1.0,5.7765300118...|       0.0|\n",
      "|  0.0|(13424,[0,1,18,20...|[-863.67951779327...|[1.0,1.7934781932...|       0.0|\n",
      "|  0.0|(13424,[0,1,23,63...|[-1292.7125554822...|[1.0,2.7646744319...|       0.0|\n",
      "|  0.0|(13424,[0,1,27,35...|[-1484.4794047955...|[0.99999999113832...|       0.0|\n",
      "|  0.0|(13424,[0,1,31,43...|[-341.98461108451...|[1.0,3.0075271502...|       0.0|\n",
      "|  0.0|(13424,[0,1,46,17...|[-1134.0192713232...|[1.72001325169248...|       1.0|\n",
      "|  0.0|(13424,[0,1,72,10...|[-665.46460793034...|[1.0,2.0116888322...|       0.0|\n",
      "|  0.0|(13424,[0,1,416,6...|[-300.87733437595...|[0.99999999999999...|       0.0|\n",
      "|  0.0|(13424,[0,1,874,1...|[-97.185623604580...|[0.99999986533109...|       0.0|\n",
      "|  0.0|(13424,[0,1,874,1...|[-98.866032305750...|[0.99999989844088...|       0.0|\n",
      "|  0.0|(13424,[0,2,3,4,6...|[-1285.1733666803...|[1.0,2.8818310101...|       0.0|\n",
      "|  0.0|(13424,[0,2,3,6,9...|[-3416.8958072691...|[1.0,3.5291414505...|       0.0|\n",
      "|  0.0|(13424,[0,2,3,6,9...|[-3416.8958072691...|[1.0,3.5291414505...|       0.0|\n",
      "+-----+--------------------+--------------------+--------------------+----------+\n",
      "only showing top 20 rows\n",
      "\n"
     ]
    },
    {
     "name": "stderr",
     "output_type": "stream",
     "text": [
      "                                                                                \r"
     ]
    }
   ],
   "source": [
    "test_results.show()"
   ]
  },
  {
   "cell_type": "code",
   "execution_count": 11,
   "id": "091e9a6e",
   "metadata": {},
   "outputs": [],
   "source": [
    "from pyspark.ml.evaluation import MulticlassClassificationEvaluator"
   ]
  },
  {
   "cell_type": "code",
   "execution_count": 13,
   "id": "98b02ed9",
   "metadata": {},
   "outputs": [
    {
     "name": "stdout",
     "output_type": "stream",
     "text": [
      "23/01/16 00:09:25 WARN DAGScheduler: Broadcasting large task binary with size 1475.9 KiB\n",
      "Accuracy of model at predicting spam is: 0.9247471326859881\n"
     ]
    }
   ],
   "source": [
    "acc_eval2 = MulticlassClassificationEvaluator()\n",
    "acc2 = acc_eval2.evaluate(test_results)\n",
    "print(\"Accuracy of model at predicting spam is: {}\".format(acc2))"
   ]
  },
  {
   "cell_type": "code",
   "execution_count": 15,
   "id": "d3e0d264",
   "metadata": {},
   "outputs": [],
   "source": [
    "datax = [('Nah I dont think he goes to usf, he lives around here thoug','NULL')]"
   ]
  },
  {
   "cell_type": "code",
   "execution_count": 16,
   "id": "7669c2db",
   "metadata": {},
   "outputs": [
    {
     "data": {
      "text/plain": [
       "[('Nah I dont think he goes to usf, he lives around here thoug', 'NULL')]"
      ]
     },
     "execution_count": 16,
     "metadata": {},
     "output_type": "execute_result"
    }
   ],
   "source": [
    "datax"
   ]
  },
  {
   "cell_type": "code",
   "execution_count": 17,
   "id": "f1a25490",
   "metadata": {},
   "outputs": [],
   "source": [
    "columns = [\"text\",\"length\"]"
   ]
  },
  {
   "cell_type": "code",
   "execution_count": 18,
   "id": "984f142e",
   "metadata": {},
   "outputs": [],
   "source": [
    "dfx = spark.createDataFrame(data=datax, schema = columns)"
   ]
  },
  {
   "cell_type": "code",
   "execution_count": 19,
   "id": "0e4df6c7",
   "metadata": {},
   "outputs": [
    {
     "name": "stderr",
     "output_type": "stream",
     "text": [
      "[Stage 33:>                                                         (0 + 1) / 1]\r"
     ]
    },
    {
     "name": "stdout",
     "output_type": "stream",
     "text": [
      "+--------------------+------+\n",
      "|                text|length|\n",
      "+--------------------+------+\n",
      "|Nah I dont think ...|  NULL|\n",
      "+--------------------+------+\n",
      "\n"
     ]
    },
    {
     "name": "stderr",
     "output_type": "stream",
     "text": [
      "                                                                                \r"
     ]
    }
   ],
   "source": [
    "dfx.show()"
   ]
  },
  {
   "cell_type": "code",
   "execution_count": 20,
   "id": "6a52e2bf",
   "metadata": {},
   "outputs": [],
   "source": [
    "datax = dfx.withColumn('length',length(dfx['text']))#We need the lenghth of the data"
   ]
  },
  {
   "cell_type": "code",
   "execution_count": 21,
   "id": "3f1ecb32",
   "metadata": {},
   "outputs": [
    {
     "name": "stdout",
     "output_type": "stream",
     "text": [
      "+--------------------+------+\n",
      "|                text|length|\n",
      "+--------------------+------+\n",
      "|Nah I dont think ...|    59|\n",
      "+--------------------+------+\n",
      "\n"
     ]
    }
   ],
   "source": [
    "datax.show()"
   ]
  },
  {
   "cell_type": "code",
   "execution_count": 22,
   "id": "cb64c380",
   "metadata": {},
   "outputs": [],
   "source": [
    "tokenizer2 = Tokenizer(inputCol = \"text\", outputCol = \"token_text2\")\n",
    "\n",
    "stop_remove2 = StopWordsRemover(inputCol = 'token_text2', outputCol=\"stop_tokens2\")\n",
    "\n",
    "count_vec2 = CountVectorizer(inputCol = 'stop_tokens2', outputCol = 'c_vec2')\n",
    "\n",
    "idf2 = IDF(inputCol = 'c_vec2', outputCol = 'tf_idf')"
   ]
  },
  {
   "cell_type": "code",
   "execution_count": 23,
   "id": "0ea44840",
   "metadata": {},
   "outputs": [],
   "source": [
    "clean_up_datax = VectorAssembler(inputCols=['tf_idf','length'],outputCol = 'features')"
   ]
  },
  {
   "cell_type": "code",
   "execution_count": 24,
   "id": "40a351bb",
   "metadata": {},
   "outputs": [],
   "source": [
    "data_prep_pipex = Pipeline(stages=[tokenizer2,stop_remove2,count_vec2,idf2,clean_up_datax])"
   ]
  },
  {
   "cell_type": "code",
   "execution_count": 25,
   "id": "4aeaa33a",
   "metadata": {},
   "outputs": [],
   "source": [
    "cleanx = data_prep_pipex.fit(datax)"
   ]
  },
  {
   "cell_type": "code",
   "execution_count": 26,
   "id": "7bd4dca5",
   "metadata": {},
   "outputs": [],
   "source": [
    "cleandatax = cleanx.transform(datax)"
   ]
  },
  {
   "cell_type": "code",
   "execution_count": 27,
   "id": "81881345",
   "metadata": {},
   "outputs": [
    {
     "name": "stdout",
     "output_type": "stream",
     "text": [
      "+--------------------+------+--------------------+--------------------+--------------------+--------------------+--------------+\n",
      "|                text|length|         token_text2|        stop_tokens2|              c_vec2|              tf_idf|      features|\n",
      "+--------------------+------+--------------------+--------------------+--------------------+--------------------+--------------+\n",
      "|Nah I dont think ...|    59|[nah, i, dont, th...|[nah, dont, think...|(8,[0,1,2,3,4,5,6...|(8,[0,1,2,3,4,5,6...|(9,[8],[59.0])|\n",
      "+--------------------+------+--------------------+--------------------+--------------------+--------------------+--------------+\n",
      "\n"
     ]
    }
   ],
   "source": [
    "cleandatax.show()"
   ]
  },
  {
   "cell_type": "code",
   "execution_count": 28,
   "id": "7c1eaeea",
   "metadata": {},
   "outputs": [],
   "source": [
    "cleandatax2 = cleandatax.select('features')"
   ]
  },
  {
   "cell_type": "code",
   "execution_count": 29,
   "id": "eaeb555f",
   "metadata": {},
   "outputs": [],
   "source": [
    "predictionx = spam_detection2.transform(cleandatax)"
   ]
  },
  {
   "cell_type": "code",
   "execution_count": 30,
   "id": "c917061e",
   "metadata": {},
   "outputs": [
    {
     "data": {
      "text/plain": [
       "DataFrame[text: string, length: int, token_text2: array<string>, stop_tokens2: array<string>, c_vec2: vector, tf_idf: vector, features: vector, rawPrediction: vector, probability: vector, prediction: double]"
      ]
     },
     "execution_count": 30,
     "metadata": {},
     "output_type": "execute_result"
    }
   ],
   "source": [
    "predictionx"
   ]
  },
  {
   "cell_type": "code",
   "execution_count": null,
   "id": "c2f0dfb6",
   "metadata": {},
   "outputs": [],
   "source": [
    "predictionx.show()"
   ]
  }
 ],
 "metadata": {
  "kernelspec": {
   "display_name": "Python 3 (ipykernel)",
   "language": "python",
   "name": "python3"
  },
  "language_info": {
   "codemirror_mode": {
    "name": "ipython",
    "version": 3
   },
   "file_extension": ".py",
   "mimetype": "text/x-python",
   "name": "python",
   "nbconvert_exporter": "python",
   "pygments_lexer": "ipython3",
   "version": "3.9.12"
  }
 },
 "nbformat": 4,
 "nbformat_minor": 5
}
